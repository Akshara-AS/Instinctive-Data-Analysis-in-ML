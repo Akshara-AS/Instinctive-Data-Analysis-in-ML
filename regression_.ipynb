{
 "cells": [
  {
   "cell_type": "code",
   "execution_count": 25,
   "id": "8f435a51-fc42-4da0-b3f2-bb3a89939820",
   "metadata": {},
   "outputs": [],
   "source": [
    "import pandas as pd"
   ]
  },
  {
   "cell_type": "code",
   "execution_count": 26,
   "id": "b71ad3ea-e3c6-44fd-bbc3-34e5393e5bd8",
   "metadata": {},
   "outputs": [],
   "source": [
    "df = pd.read_csv(\"datasets/vegetable_price.csv\")"
   ]
  },
  {
   "cell_type": "code",
   "execution_count": 27,
   "id": "40105a5d-4047-4e73-ac7f-badb6646aab4",
   "metadata": {},
   "outputs": [
    {
     "data": {
      "text/plain": [
       "(121, 7)"
      ]
     },
     "execution_count": 27,
     "metadata": {},
     "output_type": "execute_result"
    }
   ],
   "source": [
    "df.shape"
   ]
  },
  {
   "cell_type": "code",
   "execution_count": 28,
   "id": "ae745b61-6b7b-490a-b998-69cdcfdfeb4a",
   "metadata": {},
   "outputs": [],
   "source": [
    "missing = df.isnull().values.any() "
   ]
  },
  {
   "cell_type": "code",
   "execution_count": 29,
   "id": "55e6c4ab-1727-498b-85c4-8a70970fd204",
   "metadata": {},
   "outputs": [
    {
     "name": "stdout",
     "output_type": "stream",
     "text": [
      "no null values encountered\n"
     ]
    }
   ],
   "source": [
    "if missing == True:\n",
    "    df = df.ffill().bfill()\n",
    "    print(\"null values filled\")\n",
    "else:\n",
    "     print(\"no null values encountered\")"
   ]
  },
  {
   "cell_type": "code",
   "execution_count": 30,
   "id": "626b3c33-b8db-4aa5-91d1-65eaa102cd3d",
   "metadata": {},
   "outputs": [],
   "source": [
    "# for col in df.dtypes:\n",
    "#     print(col)"
   ]
  },
  {
   "cell_type": "code",
   "execution_count": 31,
   "id": "5546eea9-5c02-4bb0-a775-674be6a44707",
   "metadata": {},
   "outputs": [],
   "source": [
    "# for names in df.columns:\n",
    "#     print(names)"
   ]
  },
  {
   "cell_type": "code",
   "execution_count": 32,
   "id": "65b8b901-50a6-4993-9481-b307941e10cf",
   "metadata": {},
   "outputs": [],
   "source": [
    "from sklearn import preprocessing \n",
    "label = preprocessing.LabelEncoder() "
   ]
  },
  {
   "cell_type": "code",
   "execution_count": 33,
   "id": "6e41350e-e074-43e1-950a-c03a91d27a76",
   "metadata": {},
   "outputs": [],
   "source": [
    "object_col = df.select_dtypes(include=['object']).columns"
   ]
  },
  {
   "cell_type": "code",
   "execution_count": 34,
   "id": "4c8f7ae0-dc3d-4a81-9c58-a625663544b2",
   "metadata": {},
   "outputs": [],
   "source": [
    "for name in object_col:\n",
    "    df[name] = label.fit_transform(df[name]) "
   ]
  },
  {
   "cell_type": "code",
   "execution_count": 37,
   "id": "a492c06d-830a-4df9-8b01-93aa82826be9",
   "metadata": {},
   "outputs": [],
   "source": [
    "import prettymetrics\n",
    "\n",
    "from prettymetrics.supervised import LazyClassifier\n",
    "from sklearn.datasets import load_digits\n",
    "from sklearn.model_selection import train_test_split"
   ]
  },
  {
   "cell_type": "code",
   "execution_count": 38,
   "id": "b2227681-a506-4b99-8d6d-2ec35b7d99d0",
   "metadata": {},
   "outputs": [],
   "source": [
    "X = df.iloc[:,:-1]\n",
    "y = df[df.columns[-1]]"
   ]
  },
  {
   "cell_type": "code",
   "execution_count": 39,
   "id": "1f1fa40e-58e4-449c-bf1c-99d31f73305d",
   "metadata": {},
   "outputs": [],
   "source": [
    "X_train, X_test, y_train, y_test = train_test_split(X, y,test_size=.3,random_state =123)"
   ]
  },
  {
   "cell_type": "code",
   "execution_count": null,
   "id": "7aaae8e8-5d12-4132-b534-2efc4b369d0b",
   "metadata": {},
   "outputs": [],
   "source": []
  }
 ],
 "metadata": {
  "kernelspec": {
   "display_name": "Python 3 (ipykernel)",
   "language": "python",
   "name": "python3"
  },
  "language_info": {
   "codemirror_mode": {
    "name": "ipython",
    "version": 3
   },
   "file_extension": ".py",
   "mimetype": "text/x-python",
   "name": "python",
   "nbconvert_exporter": "python",
   "pygments_lexer": "ipython3",
   "version": "3.8.12"
  }
 },
 "nbformat": 4,
 "nbformat_minor": 5
}
